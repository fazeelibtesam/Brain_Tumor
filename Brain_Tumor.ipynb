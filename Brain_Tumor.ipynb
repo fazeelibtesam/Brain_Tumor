{
  "nbformat": 4,
  "nbformat_minor": 0,
  "metadata": {
    "colab": {
      "provenance": []
    },
    "kernelspec": {
      "name": "python3",
      "display_name": "Python 3"
    },
    "language_info": {
      "name": "python"
    }
  },
  "cells": [
    {
      "cell_type": "code",
      "source": [
        "import pandas as pd\n",
        "import numpy as np\n",
        "import matplotlib.pyplot as plt\n"
      ],
      "metadata": {
        "id": "TihjtztknQGn"
      },
      "execution_count": 1,
      "outputs": []
    },
    {
      "cell_type": "code",
      "execution_count": 2,
      "metadata": {
        "colab": {
          "base_uri": "https://localhost:8080/"
        },
        "id": "rtIHGfgCUfMN",
        "outputId": "0dbbbb06-d8c9-44bc-cacc-8d6845242108"
      },
      "outputs": [
        {
          "output_type": "stream",
          "name": "stdout",
          "text": [
            "<class 'pandas.core.frame.DataFrame'>\n",
            "RangeIndex: 3762 entries, 0 to 3761\n",
            "Data columns (total 15 columns):\n",
            " #   Column              Non-Null Count  Dtype  \n",
            "---  ------              --------------  -----  \n",
            " 0   Image               3762 non-null   object \n",
            " 1   Class               3762 non-null   int64  \n",
            " 2   Mean                3762 non-null   float64\n",
            " 3   Variance            3762 non-null   float64\n",
            " 4   Standard Deviation  3762 non-null   float64\n",
            " 5   Entropy             3762 non-null   float64\n",
            " 6   Skewness            3762 non-null   float64\n",
            " 7   Kurtosis            3762 non-null   float64\n",
            " 8   Contrast            3762 non-null   float64\n",
            " 9   Energy              3762 non-null   float64\n",
            " 10  ASM                 3762 non-null   float64\n",
            " 11  Homogeneity         3762 non-null   float64\n",
            " 12  Dissimilarity       3762 non-null   float64\n",
            " 13  Correlation         3762 non-null   float64\n",
            " 14  Coarseness          3762 non-null   float64\n",
            "dtypes: float64(13), int64(1), object(1)\n",
            "memory usage: 441.0+ KB\n"
          ]
        }
      ],
      "source": [
        "data = pd.read_csv(\"Brain_Tumor.csv\")\n",
        "\n",
        "data.info()"
      ]
    },
    {
      "cell_type": "code",
      "source": [
        "data.head()"
      ],
      "metadata": {
        "colab": {
          "base_uri": "https://localhost:8080/",
          "height": 206
        },
        "id": "FWWjtMb5-OqL",
        "outputId": "3be2b347-2b16-4d28-e321-767c2b816f93"
      },
      "execution_count": 3,
      "outputs": [
        {
          "output_type": "execute_result",
          "data": {
            "text/plain": [
              "    Image  Class      Mean     Variance  Standard Deviation   Entropy  \\\n",
              "0  Image1      0  6.535339   619.587845           24.891522  0.109059   \n",
              "1  Image2      0  8.749969   805.957634           28.389393  0.266538   \n",
              "2  Image3      1  7.341095  1143.808219           33.820234  0.001467   \n",
              "3  Image4      1  5.958145   959.711985           30.979219  0.001477   \n",
              "4  Image5      0  7.315231   729.540579           27.010009  0.146761   \n",
              "\n",
              "   Skewness   Kurtosis    Contrast    Energy       ASM  Homogeneity  \\\n",
              "0  4.276477  18.900575   98.613971  0.293314  0.086033     0.530941   \n",
              "1  3.718116  14.464618   63.858816  0.475051  0.225674     0.651352   \n",
              "2  5.061750  26.479563   81.867206  0.031917  0.001019     0.268275   \n",
              "3  5.677977  33.428845  151.229741  0.032024  0.001026     0.243851   \n",
              "4  4.283221  19.079108  174.988756  0.343849  0.118232     0.501140   \n",
              "\n",
              "   Dissimilarity  Correlation     Coarseness  \n",
              "0       4.473346     0.981939  7.458341e-155  \n",
              "1       3.220072     0.988834  7.458341e-155  \n",
              "2       5.981800     0.978014  7.458341e-155  \n",
              "3       7.700919     0.964189  7.458341e-155  \n",
              "4       6.834689     0.972789  7.458341e-155  "
            ],
            "text/html": [
              "\n",
              "  <div id=\"df-d3a47bc1-0769-4365-8e80-9be8572d3d5b\" class=\"colab-df-container\">\n",
              "    <div>\n",
              "<style scoped>\n",
              "    .dataframe tbody tr th:only-of-type {\n",
              "        vertical-align: middle;\n",
              "    }\n",
              "\n",
              "    .dataframe tbody tr th {\n",
              "        vertical-align: top;\n",
              "    }\n",
              "\n",
              "    .dataframe thead th {\n",
              "        text-align: right;\n",
              "    }\n",
              "</style>\n",
              "<table border=\"1\" class=\"dataframe\">\n",
              "  <thead>\n",
              "    <tr style=\"text-align: right;\">\n",
              "      <th></th>\n",
              "      <th>Image</th>\n",
              "      <th>Class</th>\n",
              "      <th>Mean</th>\n",
              "      <th>Variance</th>\n",
              "      <th>Standard Deviation</th>\n",
              "      <th>Entropy</th>\n",
              "      <th>Skewness</th>\n",
              "      <th>Kurtosis</th>\n",
              "      <th>Contrast</th>\n",
              "      <th>Energy</th>\n",
              "      <th>ASM</th>\n",
              "      <th>Homogeneity</th>\n",
              "      <th>Dissimilarity</th>\n",
              "      <th>Correlation</th>\n",
              "      <th>Coarseness</th>\n",
              "    </tr>\n",
              "  </thead>\n",
              "  <tbody>\n",
              "    <tr>\n",
              "      <th>0</th>\n",
              "      <td>Image1</td>\n",
              "      <td>0</td>\n",
              "      <td>6.535339</td>\n",
              "      <td>619.587845</td>\n",
              "      <td>24.891522</td>\n",
              "      <td>0.109059</td>\n",
              "      <td>4.276477</td>\n",
              "      <td>18.900575</td>\n",
              "      <td>98.613971</td>\n",
              "      <td>0.293314</td>\n",
              "      <td>0.086033</td>\n",
              "      <td>0.530941</td>\n",
              "      <td>4.473346</td>\n",
              "      <td>0.981939</td>\n",
              "      <td>7.458341e-155</td>\n",
              "    </tr>\n",
              "    <tr>\n",
              "      <th>1</th>\n",
              "      <td>Image2</td>\n",
              "      <td>0</td>\n",
              "      <td>8.749969</td>\n",
              "      <td>805.957634</td>\n",
              "      <td>28.389393</td>\n",
              "      <td>0.266538</td>\n",
              "      <td>3.718116</td>\n",
              "      <td>14.464618</td>\n",
              "      <td>63.858816</td>\n",
              "      <td>0.475051</td>\n",
              "      <td>0.225674</td>\n",
              "      <td>0.651352</td>\n",
              "      <td>3.220072</td>\n",
              "      <td>0.988834</td>\n",
              "      <td>7.458341e-155</td>\n",
              "    </tr>\n",
              "    <tr>\n",
              "      <th>2</th>\n",
              "      <td>Image3</td>\n",
              "      <td>1</td>\n",
              "      <td>7.341095</td>\n",
              "      <td>1143.808219</td>\n",
              "      <td>33.820234</td>\n",
              "      <td>0.001467</td>\n",
              "      <td>5.061750</td>\n",
              "      <td>26.479563</td>\n",
              "      <td>81.867206</td>\n",
              "      <td>0.031917</td>\n",
              "      <td>0.001019</td>\n",
              "      <td>0.268275</td>\n",
              "      <td>5.981800</td>\n",
              "      <td>0.978014</td>\n",
              "      <td>7.458341e-155</td>\n",
              "    </tr>\n",
              "    <tr>\n",
              "      <th>3</th>\n",
              "      <td>Image4</td>\n",
              "      <td>1</td>\n",
              "      <td>5.958145</td>\n",
              "      <td>959.711985</td>\n",
              "      <td>30.979219</td>\n",
              "      <td>0.001477</td>\n",
              "      <td>5.677977</td>\n",
              "      <td>33.428845</td>\n",
              "      <td>151.229741</td>\n",
              "      <td>0.032024</td>\n",
              "      <td>0.001026</td>\n",
              "      <td>0.243851</td>\n",
              "      <td>7.700919</td>\n",
              "      <td>0.964189</td>\n",
              "      <td>7.458341e-155</td>\n",
              "    </tr>\n",
              "    <tr>\n",
              "      <th>4</th>\n",
              "      <td>Image5</td>\n",
              "      <td>0</td>\n",
              "      <td>7.315231</td>\n",
              "      <td>729.540579</td>\n",
              "      <td>27.010009</td>\n",
              "      <td>0.146761</td>\n",
              "      <td>4.283221</td>\n",
              "      <td>19.079108</td>\n",
              "      <td>174.988756</td>\n",
              "      <td>0.343849</td>\n",
              "      <td>0.118232</td>\n",
              "      <td>0.501140</td>\n",
              "      <td>6.834689</td>\n",
              "      <td>0.972789</td>\n",
              "      <td>7.458341e-155</td>\n",
              "    </tr>\n",
              "  </tbody>\n",
              "</table>\n",
              "</div>\n",
              "    <div class=\"colab-df-buttons\">\n",
              "\n",
              "  <div class=\"colab-df-container\">\n",
              "    <button class=\"colab-df-convert\" onclick=\"convertToInteractive('df-d3a47bc1-0769-4365-8e80-9be8572d3d5b')\"\n",
              "            title=\"Convert this dataframe to an interactive table.\"\n",
              "            style=\"display:none;\">\n",
              "\n",
              "  <svg xmlns=\"http://www.w3.org/2000/svg\" height=\"24px\" viewBox=\"0 -960 960 960\">\n",
              "    <path d=\"M120-120v-720h720v720H120Zm60-500h600v-160H180v160Zm220 220h160v-160H400v160Zm0 220h160v-160H400v160ZM180-400h160v-160H180v160Zm440 0h160v-160H620v160ZM180-180h160v-160H180v160Zm440 0h160v-160H620v160Z\"/>\n",
              "  </svg>\n",
              "    </button>\n",
              "\n",
              "  <style>\n",
              "    .colab-df-container {\n",
              "      display:flex;\n",
              "      gap: 12px;\n",
              "    }\n",
              "\n",
              "    .colab-df-convert {\n",
              "      background-color: #E8F0FE;\n",
              "      border: none;\n",
              "      border-radius: 50%;\n",
              "      cursor: pointer;\n",
              "      display: none;\n",
              "      fill: #1967D2;\n",
              "      height: 32px;\n",
              "      padding: 0 0 0 0;\n",
              "      width: 32px;\n",
              "    }\n",
              "\n",
              "    .colab-df-convert:hover {\n",
              "      background-color: #E2EBFA;\n",
              "      box-shadow: 0px 1px 2px rgba(60, 64, 67, 0.3), 0px 1px 3px 1px rgba(60, 64, 67, 0.15);\n",
              "      fill: #174EA6;\n",
              "    }\n",
              "\n",
              "    .colab-df-buttons div {\n",
              "      margin-bottom: 4px;\n",
              "    }\n",
              "\n",
              "    [theme=dark] .colab-df-convert {\n",
              "      background-color: #3B4455;\n",
              "      fill: #D2E3FC;\n",
              "    }\n",
              "\n",
              "    [theme=dark] .colab-df-convert:hover {\n",
              "      background-color: #434B5C;\n",
              "      box-shadow: 0px 1px 3px 1px rgba(0, 0, 0, 0.15);\n",
              "      filter: drop-shadow(0px 1px 2px rgba(0, 0, 0, 0.3));\n",
              "      fill: #FFFFFF;\n",
              "    }\n",
              "  </style>\n",
              "\n",
              "    <script>\n",
              "      const buttonEl =\n",
              "        document.querySelector('#df-d3a47bc1-0769-4365-8e80-9be8572d3d5b button.colab-df-convert');\n",
              "      buttonEl.style.display =\n",
              "        google.colab.kernel.accessAllowed ? 'block' : 'none';\n",
              "\n",
              "      async function convertToInteractive(key) {\n",
              "        const element = document.querySelector('#df-d3a47bc1-0769-4365-8e80-9be8572d3d5b');\n",
              "        const dataTable =\n",
              "          await google.colab.kernel.invokeFunction('convertToInteractive',\n",
              "                                                    [key], {});\n",
              "        if (!dataTable) return;\n",
              "\n",
              "        const docLinkHtml = 'Like what you see? Visit the ' +\n",
              "          '<a target=\"_blank\" href=https://colab.research.google.com/notebooks/data_table.ipynb>data table notebook</a>'\n",
              "          + ' to learn more about interactive tables.';\n",
              "        element.innerHTML = '';\n",
              "        dataTable['output_type'] = 'display_data';\n",
              "        await google.colab.output.renderOutput(dataTable, element);\n",
              "        const docLink = document.createElement('div');\n",
              "        docLink.innerHTML = docLinkHtml;\n",
              "        element.appendChild(docLink);\n",
              "      }\n",
              "    </script>\n",
              "  </div>\n",
              "\n",
              "\n",
              "<div id=\"df-51ff10d4-129c-4d4a-a8dd-d3611d8e76ee\">\n",
              "  <button class=\"colab-df-quickchart\" onclick=\"quickchart('df-51ff10d4-129c-4d4a-a8dd-d3611d8e76ee')\"\n",
              "            title=\"Suggest charts\"\n",
              "            style=\"display:none;\">\n",
              "\n",
              "<svg xmlns=\"http://www.w3.org/2000/svg\" height=\"24px\"viewBox=\"0 0 24 24\"\n",
              "     width=\"24px\">\n",
              "    <g>\n",
              "        <path d=\"M19 3H5c-1.1 0-2 .9-2 2v14c0 1.1.9 2 2 2h14c1.1 0 2-.9 2-2V5c0-1.1-.9-2-2-2zM9 17H7v-7h2v7zm4 0h-2V7h2v10zm4 0h-2v-4h2v4z\"/>\n",
              "    </g>\n",
              "</svg>\n",
              "  </button>\n",
              "\n",
              "<style>\n",
              "  .colab-df-quickchart {\n",
              "      --bg-color: #E8F0FE;\n",
              "      --fill-color: #1967D2;\n",
              "      --hover-bg-color: #E2EBFA;\n",
              "      --hover-fill-color: #174EA6;\n",
              "      --disabled-fill-color: #AAA;\n",
              "      --disabled-bg-color: #DDD;\n",
              "  }\n",
              "\n",
              "  [theme=dark] .colab-df-quickchart {\n",
              "      --bg-color: #3B4455;\n",
              "      --fill-color: #D2E3FC;\n",
              "      --hover-bg-color: #434B5C;\n",
              "      --hover-fill-color: #FFFFFF;\n",
              "      --disabled-bg-color: #3B4455;\n",
              "      --disabled-fill-color: #666;\n",
              "  }\n",
              "\n",
              "  .colab-df-quickchart {\n",
              "    background-color: var(--bg-color);\n",
              "    border: none;\n",
              "    border-radius: 50%;\n",
              "    cursor: pointer;\n",
              "    display: none;\n",
              "    fill: var(--fill-color);\n",
              "    height: 32px;\n",
              "    padding: 0;\n",
              "    width: 32px;\n",
              "  }\n",
              "\n",
              "  .colab-df-quickchart:hover {\n",
              "    background-color: var(--hover-bg-color);\n",
              "    box-shadow: 0 1px 2px rgba(60, 64, 67, 0.3), 0 1px 3px 1px rgba(60, 64, 67, 0.15);\n",
              "    fill: var(--button-hover-fill-color);\n",
              "  }\n",
              "\n",
              "  .colab-df-quickchart-complete:disabled,\n",
              "  .colab-df-quickchart-complete:disabled:hover {\n",
              "    background-color: var(--disabled-bg-color);\n",
              "    fill: var(--disabled-fill-color);\n",
              "    box-shadow: none;\n",
              "  }\n",
              "\n",
              "  .colab-df-spinner {\n",
              "    border: 2px solid var(--fill-color);\n",
              "    border-color: transparent;\n",
              "    border-bottom-color: var(--fill-color);\n",
              "    animation:\n",
              "      spin 1s steps(1) infinite;\n",
              "  }\n",
              "\n",
              "  @keyframes spin {\n",
              "    0% {\n",
              "      border-color: transparent;\n",
              "      border-bottom-color: var(--fill-color);\n",
              "      border-left-color: var(--fill-color);\n",
              "    }\n",
              "    20% {\n",
              "      border-color: transparent;\n",
              "      border-left-color: var(--fill-color);\n",
              "      border-top-color: var(--fill-color);\n",
              "    }\n",
              "    30% {\n",
              "      border-color: transparent;\n",
              "      border-left-color: var(--fill-color);\n",
              "      border-top-color: var(--fill-color);\n",
              "      border-right-color: var(--fill-color);\n",
              "    }\n",
              "    40% {\n",
              "      border-color: transparent;\n",
              "      border-right-color: var(--fill-color);\n",
              "      border-top-color: var(--fill-color);\n",
              "    }\n",
              "    60% {\n",
              "      border-color: transparent;\n",
              "      border-right-color: var(--fill-color);\n",
              "    }\n",
              "    80% {\n",
              "      border-color: transparent;\n",
              "      border-right-color: var(--fill-color);\n",
              "      border-bottom-color: var(--fill-color);\n",
              "    }\n",
              "    90% {\n",
              "      border-color: transparent;\n",
              "      border-bottom-color: var(--fill-color);\n",
              "    }\n",
              "  }\n",
              "</style>\n",
              "\n",
              "  <script>\n",
              "    async function quickchart(key) {\n",
              "      const quickchartButtonEl =\n",
              "        document.querySelector('#' + key + ' button');\n",
              "      quickchartButtonEl.disabled = true;  // To prevent multiple clicks.\n",
              "      quickchartButtonEl.classList.add('colab-df-spinner');\n",
              "      try {\n",
              "        const charts = await google.colab.kernel.invokeFunction(\n",
              "            'suggestCharts', [key], {});\n",
              "      } catch (error) {\n",
              "        console.error('Error during call to suggestCharts:', error);\n",
              "      }\n",
              "      quickchartButtonEl.classList.remove('colab-df-spinner');\n",
              "      quickchartButtonEl.classList.add('colab-df-quickchart-complete');\n",
              "    }\n",
              "    (() => {\n",
              "      let quickchartButtonEl =\n",
              "        document.querySelector('#df-51ff10d4-129c-4d4a-a8dd-d3611d8e76ee button');\n",
              "      quickchartButtonEl.style.display =\n",
              "        google.colab.kernel.accessAllowed ? 'block' : 'none';\n",
              "    })();\n",
              "  </script>\n",
              "</div>\n",
              "\n",
              "    </div>\n",
              "  </div>\n"
            ],
            "application/vnd.google.colaboratory.intrinsic+json": {
              "type": "dataframe",
              "variable_name": "data",
              "summary": "{\n  \"name\": \"data\",\n  \"rows\": 3762,\n  \"fields\": [\n    {\n      \"column\": \"Image\",\n      \"properties\": {\n        \"dtype\": \"string\",\n        \"num_unique_values\": 3762,\n        \"samples\": [\n          \"Image1554\",\n          \"Image2988\",\n          \"Image221\"\n        ],\n        \"semantic_type\": \"\",\n        \"description\": \"\"\n      }\n    },\n    {\n      \"column\": \"Class\",\n      \"properties\": {\n        \"dtype\": \"number\",\n        \"std\": 0,\n        \"min\": 0,\n        \"max\": 1,\n        \"num_unique_values\": 2,\n        \"samples\": [\n          1,\n          0\n        ],\n        \"semantic_type\": \"\",\n        \"description\": \"\"\n      }\n    },\n    {\n      \"column\": \"Mean\",\n      \"properties\": {\n        \"dtype\": \"number\",\n        \"std\": 5.728021863519244,\n        \"min\": 0.078659057617188,\n        \"max\": 33.2399749755859,\n        \"num_unique_values\": 3692,\n        \"samples\": [\n          8.89088439941406,\n          22.7763671875\n        ],\n        \"semantic_type\": \"\",\n        \"description\": \"\"\n      }\n    },\n    {\n      \"column\": \"Variance\",\n      \"properties\": {\n        \"dtype\": \"number\",\n        \"std\": 467.46689568736934,\n        \"min\": 3.14562750498484,\n        \"max\": 2910.58187868159,\n        \"num_unique_values\": 3699,\n        \"samples\": [\n          206.239411639648,\n          612.628337511462\n        ],\n        \"semantic_type\": \"\",\n        \"description\": \"\"\n      }\n    },\n    {\n      \"column\": \"Standard Deviation\",\n      \"properties\": {\n        \"dtype\": \"number\",\n        \"std\": 8.773525895169936,\n        \"min\": 1.77359169624377,\n        \"max\": 53.9498088845697,\n        \"num_unique_values\": 3699,\n        \"samples\": [\n          14.3610379722236,\n          24.7513300150004\n        ],\n        \"semantic_type\": \"\",\n        \"description\": \"\"\n      }\n    },\n    {\n      \"column\": \"Entropy\",\n      \"properties\": {\n        \"dtype\": \"number\",\n        \"std\": 0.07026869268617432,\n        \"min\": 0.000881579569793,\n        \"max\": 0.394538600726663,\n        \"num_unique_values\": 3699,\n        \"samples\": [\n          0.102807935605076,\n          0.070073067535855\n        ],\n        \"semantic_type\": \"\",\n        \"description\": \"\"\n      }\n    },\n    {\n      \"column\": \"Skewness\",\n      \"properties\": {\n        \"dtype\": \"number\",\n        \"std\": 2.5609398180749827,\n        \"min\": 1.88601442072597,\n        \"max\": 36.9312940533355,\n        \"num_unique_values\": 3699,\n        \"samples\": [\n          3.32352991443732,\n          2.75330347584502\n        ],\n        \"semantic_type\": \"\",\n        \"description\": \"\"\n      }\n    },\n    {\n      \"column\": \"Kurtosis\",\n      \"properties\": {\n        \"dtype\": \"number\",\n        \"std\": 56.434747010233224,\n        \"min\": 3.94240208400556,\n        \"max\": 1371.6400603465,\n        \"num_unique_values\": 3699,\n        \"samples\": [\n          11.335489542349,\n          7.84468707653204\n        ],\n        \"semantic_type\": \"\",\n        \"description\": \"\"\n      }\n    },\n    {\n      \"column\": \"Contrast\",\n      \"properties\": {\n        \"dtype\": \"number\",\n        \"std\": 109.49960055870405,\n        \"min\": 3.19473319473319,\n        \"max\": 3382.57416267943,\n        \"num_unique_values\": 3699,\n        \"samples\": [\n          68.1793591344153,\n          120.88492808005\n        ],\n        \"semantic_type\": \"\",\n        \"description\": \"\"\n      }\n    },\n    {\n      \"column\": \"Energy\",\n      \"properties\": {\n        \"dtype\": \"number\",\n        \"std\": 0.12935164441107974,\n        \"min\": 0.024731170883341,\n        \"max\": 0.589681787363579,\n        \"num_unique_values\": 3699,\n        \"samples\": [\n          0.283209438335796,\n          0.231722468697145\n        ],\n        \"semantic_type\": \"\",\n        \"description\": \"\"\n      }\n    },\n    {\n      \"column\": \"ASM\",\n      \"properties\": {\n        \"dtype\": \"number\",\n        \"std\": 0.05830035624005218,\n        \"min\": 0.000611630813261,\n        \"max\": 0.347724610348305,\n        \"num_unique_values\": 3699,\n        \"samples\": [\n          0.080207585962477,\n          0.0536953024991\n        ],\n        \"semantic_type\": \"\",\n        \"description\": \"\"\n      }\n    },\n    {\n      \"column\": \"Homogeneity\",\n      \"properties\": {\n        \"dtype\": \"number\",\n        \"std\": 0.12792908048929705,\n        \"min\": 0.105489790279749,\n        \"max\": 0.810920845803123,\n        \"num_unique_values\": 3699,\n        \"samples\": [\n          0.585790793249951,\n          0.511982977953878\n        ],\n        \"semantic_type\": \"\",\n        \"description\": \"\"\n      }\n    },\n    {\n      \"column\": \"Dissimilarity\",\n      \"properties\": {\n        \"dtype\": \"number\",\n        \"std\": 1.8501726110682728,\n        \"min\": 0.681120681120681,\n        \"max\": 27.8277511961722,\n        \"num_unique_values\": 3698,\n        \"samples\": [\n          3.30898876404494,\n          4.70559724828018\n        ],\n        \"semantic_type\": \"\",\n        \"description\": \"\"\n      }\n    },\n    {\n      \"column\": \"Correlation\",\n      \"properties\": {\n        \"dtype\": \"number\",\n        \"std\": 0.026156805657855237,\n        \"min\": 0.549426249103514,\n        \"max\": 0.989972351110618,\n        \"num_unique_values\": 3699,\n        \"samples\": [\n          0.941727270038754,\n          0.948646654751285\n        ],\n        \"semantic_type\": \"\",\n        \"description\": \"\"\n      }\n    },\n    {\n      \"column\": \"Coarseness\",\n      \"properties\": {\n        \"dtype\": \"number\",\n        \"std\": 0.0,\n        \"min\": 7.45834073119875e-155,\n        \"max\": 7.45834073120021e-155,\n        \"num_unique_values\": 146,\n        \"samples\": [\n          7.458340731199201e-155,\n          7.458340731199731e-155\n        ],\n        \"semantic_type\": \"\",\n        \"description\": \"\"\n      }\n    }\n  ]\n}"
            }
          },
          "metadata": {},
          "execution_count": 3
        }
      ]
    },
    {
      "cell_type": "code",
      "source": [
        "data.describe()"
      ],
      "metadata": {
        "colab": {
          "base_uri": "https://localhost:8080/",
          "height": 441
        },
        "id": "j2yYYfep-QdJ",
        "outputId": "da322a5b-cefb-4525-c2b5-f22e51f0bd4b"
      },
      "execution_count": 4,
      "outputs": [
        {
          "output_type": "execute_result",
          "data": {
            "text/plain": [
              "             Class         Mean     Variance  Standard Deviation      Entropy  \\\n",
              "count  3762.000000  3762.000000  3762.000000         3762.000000  3762.000000   \n",
              "mean      0.447368     9.488890   711.101063           25.182271     0.073603   \n",
              "std       0.497288     5.728022   467.466896            8.773526     0.070269   \n",
              "min       0.000000     0.078659     3.145628            1.773592     0.000882   \n",
              "25%       0.000000     4.982395   363.225459           19.058475     0.006856   \n",
              "50%       0.000000     8.477531   622.580417           24.951560     0.066628   \n",
              "75%       1.000000    13.212723   966.954319           31.095889     0.113284   \n",
              "max       1.000000    33.239975  2910.581879           53.949809     0.394539   \n",
              "\n",
              "          Skewness     Kurtosis     Contrast       Energy          ASM  \\\n",
              "count  3762.000000  3762.000000  3762.000000  3762.000000  3762.000000   \n",
              "mean      4.102727    24.389071   127.961459     0.204705     0.058632   \n",
              "std       2.560940    56.434747   109.499601     0.129352     0.058300   \n",
              "min       1.886014     3.942402     3.194733     0.024731     0.000612   \n",
              "25%       2.620203     7.252852    72.125208     0.069617     0.004847   \n",
              "50%       3.422210    12.359088   106.737418     0.225496     0.050849   \n",
              "75%       4.651737    22.640304   161.059006     0.298901     0.089342   \n",
              "max      36.931294  1371.640060  3382.574163     0.589682     0.347725   \n",
              "\n",
              "       Homogeneity  Dissimilarity  Correlation     Coarseness  \n",
              "count  3762.000000    3762.000000  3762.000000   3.762000e+03  \n",
              "mean      0.479252       4.698498     0.955767  7.458341e-155  \n",
              "std       0.127929       1.850173     0.026157   0.000000e+00  \n",
              "min       0.105490       0.681121     0.549426  7.458341e-155  \n",
              "25%       0.364973       3.412363     0.947138  7.458341e-155  \n",
              "50%       0.512551       4.482404     0.961610  7.458341e-155  \n",
              "75%       0.575557       5.723821     0.971355  7.458341e-155  \n",
              "max       0.810921      27.827751     0.989972  7.458341e-155  "
            ],
            "text/html": [
              "\n",
              "  <div id=\"df-de52d3f6-bb78-43c4-97fb-a69c6cdaf8bc\" class=\"colab-df-container\">\n",
              "    <div>\n",
              "<style scoped>\n",
              "    .dataframe tbody tr th:only-of-type {\n",
              "        vertical-align: middle;\n",
              "    }\n",
              "\n",
              "    .dataframe tbody tr th {\n",
              "        vertical-align: top;\n",
              "    }\n",
              "\n",
              "    .dataframe thead th {\n",
              "        text-align: right;\n",
              "    }\n",
              "</style>\n",
              "<table border=\"1\" class=\"dataframe\">\n",
              "  <thead>\n",
              "    <tr style=\"text-align: right;\">\n",
              "      <th></th>\n",
              "      <th>Class</th>\n",
              "      <th>Mean</th>\n",
              "      <th>Variance</th>\n",
              "      <th>Standard Deviation</th>\n",
              "      <th>Entropy</th>\n",
              "      <th>Skewness</th>\n",
              "      <th>Kurtosis</th>\n",
              "      <th>Contrast</th>\n",
              "      <th>Energy</th>\n",
              "      <th>ASM</th>\n",
              "      <th>Homogeneity</th>\n",
              "      <th>Dissimilarity</th>\n",
              "      <th>Correlation</th>\n",
              "      <th>Coarseness</th>\n",
              "    </tr>\n",
              "  </thead>\n",
              "  <tbody>\n",
              "    <tr>\n",
              "      <th>count</th>\n",
              "      <td>3762.000000</td>\n",
              "      <td>3762.000000</td>\n",
              "      <td>3762.000000</td>\n",
              "      <td>3762.000000</td>\n",
              "      <td>3762.000000</td>\n",
              "      <td>3762.000000</td>\n",
              "      <td>3762.000000</td>\n",
              "      <td>3762.000000</td>\n",
              "      <td>3762.000000</td>\n",
              "      <td>3762.000000</td>\n",
              "      <td>3762.000000</td>\n",
              "      <td>3762.000000</td>\n",
              "      <td>3762.000000</td>\n",
              "      <td>3.762000e+03</td>\n",
              "    </tr>\n",
              "    <tr>\n",
              "      <th>mean</th>\n",
              "      <td>0.447368</td>\n",
              "      <td>9.488890</td>\n",
              "      <td>711.101063</td>\n",
              "      <td>25.182271</td>\n",
              "      <td>0.073603</td>\n",
              "      <td>4.102727</td>\n",
              "      <td>24.389071</td>\n",
              "      <td>127.961459</td>\n",
              "      <td>0.204705</td>\n",
              "      <td>0.058632</td>\n",
              "      <td>0.479252</td>\n",
              "      <td>4.698498</td>\n",
              "      <td>0.955767</td>\n",
              "      <td>7.458341e-155</td>\n",
              "    </tr>\n",
              "    <tr>\n",
              "      <th>std</th>\n",
              "      <td>0.497288</td>\n",
              "      <td>5.728022</td>\n",
              "      <td>467.466896</td>\n",
              "      <td>8.773526</td>\n",
              "      <td>0.070269</td>\n",
              "      <td>2.560940</td>\n",
              "      <td>56.434747</td>\n",
              "      <td>109.499601</td>\n",
              "      <td>0.129352</td>\n",
              "      <td>0.058300</td>\n",
              "      <td>0.127929</td>\n",
              "      <td>1.850173</td>\n",
              "      <td>0.026157</td>\n",
              "      <td>0.000000e+00</td>\n",
              "    </tr>\n",
              "    <tr>\n",
              "      <th>min</th>\n",
              "      <td>0.000000</td>\n",
              "      <td>0.078659</td>\n",
              "      <td>3.145628</td>\n",
              "      <td>1.773592</td>\n",
              "      <td>0.000882</td>\n",
              "      <td>1.886014</td>\n",
              "      <td>3.942402</td>\n",
              "      <td>3.194733</td>\n",
              "      <td>0.024731</td>\n",
              "      <td>0.000612</td>\n",
              "      <td>0.105490</td>\n",
              "      <td>0.681121</td>\n",
              "      <td>0.549426</td>\n",
              "      <td>7.458341e-155</td>\n",
              "    </tr>\n",
              "    <tr>\n",
              "      <th>25%</th>\n",
              "      <td>0.000000</td>\n",
              "      <td>4.982395</td>\n",
              "      <td>363.225459</td>\n",
              "      <td>19.058475</td>\n",
              "      <td>0.006856</td>\n",
              "      <td>2.620203</td>\n",
              "      <td>7.252852</td>\n",
              "      <td>72.125208</td>\n",
              "      <td>0.069617</td>\n",
              "      <td>0.004847</td>\n",
              "      <td>0.364973</td>\n",
              "      <td>3.412363</td>\n",
              "      <td>0.947138</td>\n",
              "      <td>7.458341e-155</td>\n",
              "    </tr>\n",
              "    <tr>\n",
              "      <th>50%</th>\n",
              "      <td>0.000000</td>\n",
              "      <td>8.477531</td>\n",
              "      <td>622.580417</td>\n",
              "      <td>24.951560</td>\n",
              "      <td>0.066628</td>\n",
              "      <td>3.422210</td>\n",
              "      <td>12.359088</td>\n",
              "      <td>106.737418</td>\n",
              "      <td>0.225496</td>\n",
              "      <td>0.050849</td>\n",
              "      <td>0.512551</td>\n",
              "      <td>4.482404</td>\n",
              "      <td>0.961610</td>\n",
              "      <td>7.458341e-155</td>\n",
              "    </tr>\n",
              "    <tr>\n",
              "      <th>75%</th>\n",
              "      <td>1.000000</td>\n",
              "      <td>13.212723</td>\n",
              "      <td>966.954319</td>\n",
              "      <td>31.095889</td>\n",
              "      <td>0.113284</td>\n",
              "      <td>4.651737</td>\n",
              "      <td>22.640304</td>\n",
              "      <td>161.059006</td>\n",
              "      <td>0.298901</td>\n",
              "      <td>0.089342</td>\n",
              "      <td>0.575557</td>\n",
              "      <td>5.723821</td>\n",
              "      <td>0.971355</td>\n",
              "      <td>7.458341e-155</td>\n",
              "    </tr>\n",
              "    <tr>\n",
              "      <th>max</th>\n",
              "      <td>1.000000</td>\n",
              "      <td>33.239975</td>\n",
              "      <td>2910.581879</td>\n",
              "      <td>53.949809</td>\n",
              "      <td>0.394539</td>\n",
              "      <td>36.931294</td>\n",
              "      <td>1371.640060</td>\n",
              "      <td>3382.574163</td>\n",
              "      <td>0.589682</td>\n",
              "      <td>0.347725</td>\n",
              "      <td>0.810921</td>\n",
              "      <td>27.827751</td>\n",
              "      <td>0.989972</td>\n",
              "      <td>7.458341e-155</td>\n",
              "    </tr>\n",
              "  </tbody>\n",
              "</table>\n",
              "</div>\n",
              "    <div class=\"colab-df-buttons\">\n",
              "\n",
              "  <div class=\"colab-df-container\">\n",
              "    <button class=\"colab-df-convert\" onclick=\"convertToInteractive('df-de52d3f6-bb78-43c4-97fb-a69c6cdaf8bc')\"\n",
              "            title=\"Convert this dataframe to an interactive table.\"\n",
              "            style=\"display:none;\">\n",
              "\n",
              "  <svg xmlns=\"http://www.w3.org/2000/svg\" height=\"24px\" viewBox=\"0 -960 960 960\">\n",
              "    <path d=\"M120-120v-720h720v720H120Zm60-500h600v-160H180v160Zm220 220h160v-160H400v160Zm0 220h160v-160H400v160ZM180-400h160v-160H180v160Zm440 0h160v-160H620v160ZM180-180h160v-160H180v160Zm440 0h160v-160H620v160Z\"/>\n",
              "  </svg>\n",
              "    </button>\n",
              "\n",
              "  <style>\n",
              "    .colab-df-container {\n",
              "      display:flex;\n",
              "      gap: 12px;\n",
              "    }\n",
              "\n",
              "    .colab-df-convert {\n",
              "      background-color: #E8F0FE;\n",
              "      border: none;\n",
              "      border-radius: 50%;\n",
              "      cursor: pointer;\n",
              "      display: none;\n",
              "      fill: #1967D2;\n",
              "      height: 32px;\n",
              "      padding: 0 0 0 0;\n",
              "      width: 32px;\n",
              "    }\n",
              "\n",
              "    .colab-df-convert:hover {\n",
              "      background-color: #E2EBFA;\n",
              "      box-shadow: 0px 1px 2px rgba(60, 64, 67, 0.3), 0px 1px 3px 1px rgba(60, 64, 67, 0.15);\n",
              "      fill: #174EA6;\n",
              "    }\n",
              "\n",
              "    .colab-df-buttons div {\n",
              "      margin-bottom: 4px;\n",
              "    }\n",
              "\n",
              "    [theme=dark] .colab-df-convert {\n",
              "      background-color: #3B4455;\n",
              "      fill: #D2E3FC;\n",
              "    }\n",
              "\n",
              "    [theme=dark] .colab-df-convert:hover {\n",
              "      background-color: #434B5C;\n",
              "      box-shadow: 0px 1px 3px 1px rgba(0, 0, 0, 0.15);\n",
              "      filter: drop-shadow(0px 1px 2px rgba(0, 0, 0, 0.3));\n",
              "      fill: #FFFFFF;\n",
              "    }\n",
              "  </style>\n",
              "\n",
              "    <script>\n",
              "      const buttonEl =\n",
              "        document.querySelector('#df-de52d3f6-bb78-43c4-97fb-a69c6cdaf8bc button.colab-df-convert');\n",
              "      buttonEl.style.display =\n",
              "        google.colab.kernel.accessAllowed ? 'block' : 'none';\n",
              "\n",
              "      async function convertToInteractive(key) {\n",
              "        const element = document.querySelector('#df-de52d3f6-bb78-43c4-97fb-a69c6cdaf8bc');\n",
              "        const dataTable =\n",
              "          await google.colab.kernel.invokeFunction('convertToInteractive',\n",
              "                                                    [key], {});\n",
              "        if (!dataTable) return;\n",
              "\n",
              "        const docLinkHtml = 'Like what you see? Visit the ' +\n",
              "          '<a target=\"_blank\" href=https://colab.research.google.com/notebooks/data_table.ipynb>data table notebook</a>'\n",
              "          + ' to learn more about interactive tables.';\n",
              "        element.innerHTML = '';\n",
              "        dataTable['output_type'] = 'display_data';\n",
              "        await google.colab.output.renderOutput(dataTable, element);\n",
              "        const docLink = document.createElement('div');\n",
              "        docLink.innerHTML = docLinkHtml;\n",
              "        element.appendChild(docLink);\n",
              "      }\n",
              "    </script>\n",
              "  </div>\n",
              "\n",
              "\n",
              "<div id=\"df-9ddee626-4717-4499-99ee-e038c4897c45\">\n",
              "  <button class=\"colab-df-quickchart\" onclick=\"quickchart('df-9ddee626-4717-4499-99ee-e038c4897c45')\"\n",
              "            title=\"Suggest charts\"\n",
              "            style=\"display:none;\">\n",
              "\n",
              "<svg xmlns=\"http://www.w3.org/2000/svg\" height=\"24px\"viewBox=\"0 0 24 24\"\n",
              "     width=\"24px\">\n",
              "    <g>\n",
              "        <path d=\"M19 3H5c-1.1 0-2 .9-2 2v14c0 1.1.9 2 2 2h14c1.1 0 2-.9 2-2V5c0-1.1-.9-2-2-2zM9 17H7v-7h2v7zm4 0h-2V7h2v10zm4 0h-2v-4h2v4z\"/>\n",
              "    </g>\n",
              "</svg>\n",
              "  </button>\n",
              "\n",
              "<style>\n",
              "  .colab-df-quickchart {\n",
              "      --bg-color: #E8F0FE;\n",
              "      --fill-color: #1967D2;\n",
              "      --hover-bg-color: #E2EBFA;\n",
              "      --hover-fill-color: #174EA6;\n",
              "      --disabled-fill-color: #AAA;\n",
              "      --disabled-bg-color: #DDD;\n",
              "  }\n",
              "\n",
              "  [theme=dark] .colab-df-quickchart {\n",
              "      --bg-color: #3B4455;\n",
              "      --fill-color: #D2E3FC;\n",
              "      --hover-bg-color: #434B5C;\n",
              "      --hover-fill-color: #FFFFFF;\n",
              "      --disabled-bg-color: #3B4455;\n",
              "      --disabled-fill-color: #666;\n",
              "  }\n",
              "\n",
              "  .colab-df-quickchart {\n",
              "    background-color: var(--bg-color);\n",
              "    border: none;\n",
              "    border-radius: 50%;\n",
              "    cursor: pointer;\n",
              "    display: none;\n",
              "    fill: var(--fill-color);\n",
              "    height: 32px;\n",
              "    padding: 0;\n",
              "    width: 32px;\n",
              "  }\n",
              "\n",
              "  .colab-df-quickchart:hover {\n",
              "    background-color: var(--hover-bg-color);\n",
              "    box-shadow: 0 1px 2px rgba(60, 64, 67, 0.3), 0 1px 3px 1px rgba(60, 64, 67, 0.15);\n",
              "    fill: var(--button-hover-fill-color);\n",
              "  }\n",
              "\n",
              "  .colab-df-quickchart-complete:disabled,\n",
              "  .colab-df-quickchart-complete:disabled:hover {\n",
              "    background-color: var(--disabled-bg-color);\n",
              "    fill: var(--disabled-fill-color);\n",
              "    box-shadow: none;\n",
              "  }\n",
              "\n",
              "  .colab-df-spinner {\n",
              "    border: 2px solid var(--fill-color);\n",
              "    border-color: transparent;\n",
              "    border-bottom-color: var(--fill-color);\n",
              "    animation:\n",
              "      spin 1s steps(1) infinite;\n",
              "  }\n",
              "\n",
              "  @keyframes spin {\n",
              "    0% {\n",
              "      border-color: transparent;\n",
              "      border-bottom-color: var(--fill-color);\n",
              "      border-left-color: var(--fill-color);\n",
              "    }\n",
              "    20% {\n",
              "      border-color: transparent;\n",
              "      border-left-color: var(--fill-color);\n",
              "      border-top-color: var(--fill-color);\n",
              "    }\n",
              "    30% {\n",
              "      border-color: transparent;\n",
              "      border-left-color: var(--fill-color);\n",
              "      border-top-color: var(--fill-color);\n",
              "      border-right-color: var(--fill-color);\n",
              "    }\n",
              "    40% {\n",
              "      border-color: transparent;\n",
              "      border-right-color: var(--fill-color);\n",
              "      border-top-color: var(--fill-color);\n",
              "    }\n",
              "    60% {\n",
              "      border-color: transparent;\n",
              "      border-right-color: var(--fill-color);\n",
              "    }\n",
              "    80% {\n",
              "      border-color: transparent;\n",
              "      border-right-color: var(--fill-color);\n",
              "      border-bottom-color: var(--fill-color);\n",
              "    }\n",
              "    90% {\n",
              "      border-color: transparent;\n",
              "      border-bottom-color: var(--fill-color);\n",
              "    }\n",
              "  }\n",
              "</style>\n",
              "\n",
              "  <script>\n",
              "    async function quickchart(key) {\n",
              "      const quickchartButtonEl =\n",
              "        document.querySelector('#' + key + ' button');\n",
              "      quickchartButtonEl.disabled = true;  // To prevent multiple clicks.\n",
              "      quickchartButtonEl.classList.add('colab-df-spinner');\n",
              "      try {\n",
              "        const charts = await google.colab.kernel.invokeFunction(\n",
              "            'suggestCharts', [key], {});\n",
              "      } catch (error) {\n",
              "        console.error('Error during call to suggestCharts:', error);\n",
              "      }\n",
              "      quickchartButtonEl.classList.remove('colab-df-spinner');\n",
              "      quickchartButtonEl.classList.add('colab-df-quickchart-complete');\n",
              "    }\n",
              "    (() => {\n",
              "      let quickchartButtonEl =\n",
              "        document.querySelector('#df-9ddee626-4717-4499-99ee-e038c4897c45 button');\n",
              "      quickchartButtonEl.style.display =\n",
              "        google.colab.kernel.accessAllowed ? 'block' : 'none';\n",
              "    })();\n",
              "  </script>\n",
              "</div>\n",
              "\n",
              "    </div>\n",
              "  </div>\n"
            ],
            "application/vnd.google.colaboratory.intrinsic+json": {
              "type": "dataframe",
              "summary": "{\n  \"name\": \"data\",\n  \"rows\": 8,\n  \"fields\": [\n    {\n      \"column\": \"Class\",\n      \"properties\": {\n        \"dtype\": \"number\",\n        \"std\": 1329.9191927070394,\n        \"min\": 0.0,\n        \"max\": 3762.0,\n        \"num_unique_values\": 5,\n        \"samples\": [\n          0.4473684210526316,\n          1.0,\n          0.49728829872845154\n        ],\n        \"semantic_type\": \"\",\n        \"description\": \"\"\n      }\n    },\n    {\n      \"column\": \"Mean\",\n      \"properties\": {\n        \"dtype\": \"number\",\n        \"std\": 1326.3064814182294,\n        \"min\": 0.078659057617188,\n        \"max\": 3762.0,\n        \"num_unique_values\": 8,\n        \"samples\": [\n          9.488889926421649,\n          8.477531433105469,\n          3762.0\n        ],\n        \"semantic_type\": \"\",\n        \"description\": \"\"\n      }\n    },\n    {\n      \"column\": \"Variance\",\n      \"properties\": {\n        \"dtype\": \"number\",\n        \"std\": 1351.2205045602666,\n        \"min\": 3.14562750498484,\n        \"max\": 3762.0,\n        \"num_unique_values\": 8,\n        \"samples\": [\n          711.1010631474365,\n          622.5804169381075,\n          3762.0\n        ],\n        \"semantic_type\": \"\",\n        \"description\": \"\"\n      }\n    },\n    {\n      \"column\": \"Standard Deviation\",\n      \"properties\": {\n        \"dtype\": \"number\",\n        \"std\": 1321.8367327020987,\n        \"min\": 1.77359169624377,\n        \"max\": 3762.0,\n        \"num_unique_values\": 8,\n        \"samples\": [\n          25.18227089919382,\n          24.95156028549735,\n          3762.0\n        ],\n        \"semantic_type\": \"\",\n        \"description\": \"\"\n      }\n    },\n    {\n      \"column\": \"Entropy\",\n      \"properties\": {\n        \"dtype\": \"number\",\n        \"std\": 1330.03118962749,\n        \"min\": 0.000881579569793,\n        \"max\": 3762.0,\n        \"num_unique_values\": 8,\n        \"samples\": [\n          0.07360261702146322,\n          0.066628048910605,\n          3762.0\n        ],\n        \"semantic_type\": \"\",\n        \"description\": \"\"\n      }\n    },\n    {\n      \"column\": \"Skewness\",\n      \"properties\": {\n        \"dtype\": \"number\",\n        \"std\": 1327.283338410483,\n        \"min\": 1.88601442072597,\n        \"max\": 3762.0,\n        \"num_unique_values\": 8,\n        \"samples\": [\n          4.102726891819568,\n          3.4222097897735146,\n          3762.0\n        ],\n        \"semantic_type\": \"\",\n        \"description\": \"\"\n      }\n    },\n    {\n      \"column\": \"Kurtosis\",\n      \"properties\": {\n        \"dtype\": \"number\",\n        \"std\": 1340.5349478378519,\n        \"min\": 3.94240208400556,\n        \"max\": 3762.0,\n        \"num_unique_values\": 8,\n        \"samples\": [\n          24.38907117823764,\n          12.35908810662745,\n          3762.0\n        ],\n        \"semantic_type\": \"\",\n        \"description\": \"\"\n      }\n    },\n    {\n      \"column\": \"Contrast\",\n      \"properties\": {\n        \"dtype\": \"number\",\n        \"std\": 1612.700287162451,\n        \"min\": 3.19473319473319,\n        \"max\": 3762.0,\n        \"num_unique_values\": 8,\n        \"samples\": [\n          127.96145910831056,\n          106.73741823660899,\n          3762.0\n        ],\n        \"semantic_type\": \"\",\n        \"description\": \"\"\n      }\n    },\n    {\n      \"column\": \"Energy\",\n      \"properties\": {\n        \"dtype\": \"number\",\n        \"std\": 1329.9899595412323,\n        \"min\": 0.024731170883341,\n        \"max\": 3762.0,\n        \"num_unique_values\": 8,\n        \"samples\": [\n          0.20470512949737016,\n          0.2254964981184125,\n          3762.0\n        ],\n        \"semantic_type\": \"\",\n        \"description\": \"\"\n      }\n    },\n    {\n      \"column\": \"ASM\",\n      \"properties\": {\n        \"dtype\": \"number\",\n        \"std\": 1330.0370349006953,\n        \"min\": 0.000611630813261,\n        \"max\": 3762.0,\n        \"num_unique_values\": 8,\n        \"samples\": [\n          0.05863159036057593,\n          0.05084867173306,\n          3762.0\n        ],\n        \"semantic_type\": \"\",\n        \"description\": \"\"\n      }\n    },\n    {\n      \"column\": \"Homogeneity\",\n      \"properties\": {\n        \"dtype\": \"number\",\n        \"std\": 1329.9175309708444,\n        \"min\": 0.105489790279749,\n        \"max\": 3762.0,\n        \"num_unique_values\": 8,\n        \"samples\": [\n          0.4792518828754462,\n          0.512551164970623,\n          3762.0\n        ],\n        \"semantic_type\": \"\",\n        \"description\": \"\"\n      }\n    },\n    {\n      \"column\": \"Dissimilarity\",\n      \"properties\": {\n        \"dtype\": \"number\",\n        \"std\": 1327.6376589069735,\n        \"min\": 0.681120681120681,\n        \"max\": 3762.0,\n        \"num_unique_values\": 8,\n        \"samples\": [\n          4.698497528663681,\n          4.48240417711394,\n          3762.0\n        ],\n        \"semantic_type\": \"\",\n        \"description\": \"\"\n      }\n    },\n    {\n      \"column\": \"Correlation\",\n      \"properties\": {\n        \"dtype\": \"number\",\n        \"std\": 1329.795084891817,\n        \"min\": 0.026156805657855237,\n        \"max\": 3762.0,\n        \"num_unique_values\": 8,\n        \"samples\": [\n          0.9557667320874572,\n          0.961609821801383,\n          3762.0\n        ],\n        \"semantic_type\": \"\",\n        \"description\": \"\"\n      }\n    },\n    {\n      \"column\": \"Coarseness\",\n      \"properties\": {\n        \"dtype\": \"number\",\n        \"std\": 1330.0678554118958,\n        \"min\": 0.0,\n        \"max\": 3762.0,\n        \"num_unique_values\": 5,\n        \"samples\": [\n          7.458340731198862e-155,\n          7.45834073120021e-155,\n          0.0\n        ],\n        \"semantic_type\": \"\",\n        \"description\": \"\"\n      }\n    }\n  ]\n}"
            }
          },
          "metadata": {},
          "execution_count": 4
        }
      ]
    },
    {
      "cell_type": "markdown",
      "source": [
        "## Data Preprocessing"
      ],
      "metadata": {
        "id": "VQ4uMTBWAGw4"
      }
    },
    {
      "cell_type": "code",
      "source": [
        "from sklearn.model_selection import train_test_split\n",
        "from sklearn.preprocessing import StandardScaler, LabelEncoder\n",
        "\n",
        "data_cleaned = data.drop(columns=['Image'])\n",
        "df = pd.DataFrame(data_cleaned)\n",
        "\n",
        "missing_values = df.isnull().sum()\n",
        "\n",
        "X = data_cleaned.drop(columns=['Class'])\n",
        "y = data_cleaned['Class']\n",
        "\n",
        "scaler = StandardScaler()\n",
        "X_scaled = scaler.fit_transform(X)\n",
        "\n",
        "X_train, X_test, y_train, y_test = train_test_split(X_scaled, y, test_size=0.2, random_state=42)\n",
        "\n",
        "X_train.shape, X_test.shape, y_train.shape, y_test.shape\n"
      ],
      "metadata": {
        "colab": {
          "base_uri": "https://localhost:8080/"
        },
        "id": "cyrsNlapWSyy",
        "outputId": "9f0bac2b-be3d-4907-ce90-ac30543c97cf"
      },
      "execution_count": 5,
      "outputs": [
        {
          "output_type": "execute_result",
          "data": {
            "text/plain": [
              "((3009, 13), (753, 13), (3009,), (753,))"
            ]
          },
          "metadata": {},
          "execution_count": 5
        }
      ]
    },
    {
      "cell_type": "markdown",
      "source": [
        "## Regression"
      ],
      "metadata": {
        "id": "A8LUgyVgdOoX"
      }
    },
    {
      "cell_type": "markdown",
      "source": [
        "Linear Regression"
      ],
      "metadata": {
        "id": "aYr6Tu49oKfB"
      }
    },
    {
      "cell_type": "code",
      "source": [
        "from sklearn.linear_model import LinearRegression\n",
        "from sklearn.metrics import mean_absolute_error, mean_squared_error, r2_score\n",
        "\n",
        "slr = LinearRegression()\n",
        "slr.fit(X_train[:, [0]], y_train)\n",
        "\n",
        "y_pred_slr = slr.predict(X_test[:, [0]])\n",
        "\n",
        "# Evaluate the model\n",
        "mae_slr = mean_absolute_error(y_test, y_pred_slr)\n",
        "mse_slr = mean_squared_error(y_test, y_pred_slr)\n",
        "r2_slr = r2_score(y_test, y_pred_slr)\n",
        "\n",
        "print(\"Simple Linear Regression:\")\n",
        "print(f\"MAE: {mae_slr:.4f}, MSE: {mse_slr:.4f}, R2 Score: {r2_slr:.4f}\")\n"
      ],
      "metadata": {
        "colab": {
          "base_uri": "https://localhost:8080/"
        },
        "id": "CubQKlIfdVwo",
        "outputId": "fbd513e0-c2b6-4a8f-8f0d-86a0a3318d4e"
      },
      "execution_count": 6,
      "outputs": [
        {
          "output_type": "stream",
          "name": "stdout",
          "text": [
            "Simple Linear Regression:\n",
            "MAE: 0.4883, MSE: 0.2425, R2 Score: 0.0173\n"
          ]
        }
      ]
    },
    {
      "cell_type": "markdown",
      "source": [
        "Polynomial Regression"
      ],
      "metadata": {
        "id": "EBcHmMuDoP_Z"
      }
    },
    {
      "cell_type": "code",
      "source": [
        "from sklearn.preprocessing import PolynomialFeatures\n",
        "\n",
        "poly = PolynomialFeatures(degree=2)\n",
        "X_train_poly = poly.fit_transform(X_train)\n",
        "X_test_poly = poly.transform(X_test)\n",
        "\n",
        "plr = LinearRegression()\n",
        "plr.fit(X_train_poly, y_train)\n",
        "\n",
        "y_pred_poly = plr.predict(X_test_poly)\n",
        "\n",
        "# Evaluate the model\n",
        "mae_poly = mean_absolute_error(y_test, y_pred_poly)\n",
        "mse_poly = mean_squared_error(y_test, y_pred_poly)\n",
        "r2_poly = r2_score(y_test, y_pred_poly)\n",
        "\n",
        "print(\"Polynomial Regression:\")\n",
        "print(f\"MAE: {mae_poly:.4f}, MSE: {mse_poly:.4f}, R2 Score: {r2_poly:.4f}\")\n"
      ],
      "metadata": {
        "colab": {
          "base_uri": "https://localhost:8080/"
        },
        "id": "vTBD4L7CdnGt",
        "outputId": "14da3947-10a6-498f-efcb-906195b80550"
      },
      "execution_count": 7,
      "outputs": [
        {
          "output_type": "stream",
          "name": "stdout",
          "text": [
            "Polynomial Regression:\n",
            "MAE: 0.0811, MSE: 0.0210, R2 Score: 0.9151\n"
          ]
        }
      ]
    },
    {
      "cell_type": "markdown",
      "source": [
        "Support Vector Regression"
      ],
      "metadata": {
        "id": "DxYoQ-5toSwR"
      }
    },
    {
      "cell_type": "code",
      "source": [
        "from sklearn.svm import SVR\n",
        "\n",
        "svr = SVR(kernel='rbf')\n",
        "svr.fit(X_train, y_train)\n",
        "\n",
        "y_pred_svr = svr.predict(X_test)\n",
        "\n",
        "# Evaluate the model\n",
        "mae_svr = mean_absolute_error(y_test, y_pred_svr)\n",
        "mse_svr = mean_squared_error(y_test, y_pred_svr)\n",
        "r2_svr = r2_score(y_test, y_pred_svr)\n",
        "\n",
        "print(\"Support Vector Regression:\")\n",
        "print(f\"MAE: {mae_svr:.4f}, MSE: {mse_svr:.4f}, R2 Score: {r2_svr:.4f}\")\n"
      ],
      "metadata": {
        "colab": {
          "base_uri": "https://localhost:8080/"
        },
        "id": "G-PiHQS0do89",
        "outputId": "7f28eb76-2e49-4b9c-d96d-fb8a64c10108"
      },
      "execution_count": 8,
      "outputs": [
        {
          "output_type": "stream",
          "name": "stdout",
          "text": [
            "Support Vector Regression:\n",
            "MAE: 0.0799, MSE: 0.0200, R2 Score: 0.9191\n"
          ]
        }
      ]
    },
    {
      "cell_type": "markdown",
      "source": [
        "Decision Tree Regression"
      ],
      "metadata": {
        "id": "Jww1RV_koWaS"
      }
    },
    {
      "cell_type": "code",
      "source": [
        "from sklearn.tree import DecisionTreeRegressor\n",
        "\n",
        "dtr = DecisionTreeRegressor(random_state=42)\n",
        "dtr.fit(X_train, y_train)\n",
        "\n",
        "y_pred_dtr = dtr.predict(X_test)\n",
        "\n",
        "# Evaluate the model\n",
        "mae_dtr = mean_absolute_error(y_test, y_pred_dtr)\n",
        "mse_dtr = mean_squared_error(y_test, y_pred_dtr)\n",
        "r2_dtr = r2_score(y_test, y_pred_dtr)\n",
        "\n",
        "print(\"Decision Tree Regression:\")\n",
        "print(f\"MAE: {mae_dtr:.4f}, MSE: {mse_dtr:.4f}, R2 Score: {r2_dtr:.4f}\")\n"
      ],
      "metadata": {
        "colab": {
          "base_uri": "https://localhost:8080/"
        },
        "id": "HMTVOl2ndwFg",
        "outputId": "589a95f5-b86d-484b-dddf-bad5a1079825"
      },
      "execution_count": 9,
      "outputs": [
        {
          "output_type": "stream",
          "name": "stdout",
          "text": [
            "Decision Tree Regression:\n",
            "MAE: 0.0252, MSE: 0.0252, R2 Score: 0.8978\n"
          ]
        }
      ]
    },
    {
      "cell_type": "markdown",
      "source": [
        "Random Forest Regression"
      ],
      "metadata": {
        "id": "RtrAei97oZki"
      }
    },
    {
      "cell_type": "code",
      "source": [
        "from sklearn.ensemble import RandomForestRegressor\n",
        "\n",
        "rfr = RandomForestRegressor(n_estimators=100, random_state=42)\n",
        "rfr.fit(X_train, y_train)\n",
        "\n",
        "y_pred_rfr = rfr.predict(X_test)\n",
        "\n",
        "# Evaluate the model\n",
        "mae_rfr = mean_absolute_error(y_test, y_pred_rfr)\n",
        "mse_rfr = mean_squared_error(y_test, y_pred_rfr)\n",
        "r2_rfr = r2_score(y_test, y_pred_rfr)\n",
        "\n",
        "print(\"Random Forest Regression:\")\n",
        "print(f\"MAE: {mae_rfr:.4f}, MSE: {mse_rfr:.4f}, R2 Score: {r2_rfr:.4f}\")\n"
      ],
      "metadata": {
        "colab": {
          "base_uri": "https://localhost:8080/"
        },
        "id": "0Mu8Ra1SdzH4",
        "outputId": "702f3468-6d4d-4ffd-e485-1b0577174dc5"
      },
      "execution_count": 10,
      "outputs": [
        {
          "output_type": "stream",
          "name": "stdout",
          "text": [
            "Random Forest Regression:\n",
            "MAE: 0.0239, MSE: 0.0137, R2 Score: 0.9447\n"
          ]
        }
      ]
    },
    {
      "cell_type": "markdown",
      "source": [
        "## Classification"
      ],
      "metadata": {
        "id": "r0Vmwn54d9ye"
      }
    },
    {
      "cell_type": "markdown",
      "source": [
        "Logistic Regression"
      ],
      "metadata": {
        "id": "CSxJpeHoodR3"
      }
    },
    {
      "cell_type": "code",
      "source": [
        "from sklearn.linear_model import LogisticRegression\n",
        "from sklearn.metrics import accuracy_score, precision_score, recall_score, f1_score\n",
        "\n",
        "log_reg = LogisticRegression(random_state=42)\n",
        "log_reg.fit(X_train, y_train)\n",
        "\n",
        "y_pred_log = log_reg.predict(X_test)\n",
        "\n",
        "# Evaluate the model\n",
        "accuracy = accuracy_score(y_test, y_pred_log)\n",
        "precision = precision_score(y_test, y_pred_log)\n",
        "recall = recall_score(y_test, y_pred_log)\n",
        "f1 = f1_score(y_test, y_pred_log)\n",
        "\n",
        "print(\"Logistic Regression:\")\n",
        "print(f\"Accuracy: {accuracy:.4f}, Precision: {precision:.4f}, Recall: {recall:.4f}, F1 Score: {f1:.4f}\")\n"
      ],
      "metadata": {
        "colab": {
          "base_uri": "https://localhost:8080/"
        },
        "id": "X6isoI6KeKqe",
        "outputId": "a345f970-0391-4144-cc8a-78c173ebbb11"
      },
      "execution_count": 11,
      "outputs": [
        {
          "output_type": "stream",
          "name": "stdout",
          "text": [
            "Logistic Regression:\n",
            "Accuracy: 0.9814, Precision: 0.9848, Recall: 0.9731, F1 Score: 0.9789\n"
          ]
        }
      ]
    },
    {
      "cell_type": "markdown",
      "source": [
        "K-Nearest Neighbours"
      ],
      "metadata": {
        "id": "gCBQYE58ohGn"
      }
    },
    {
      "cell_type": "code",
      "source": [
        "from sklearn.neighbors import KNeighborsClassifier\n",
        "\n",
        "knn = KNeighborsClassifier(n_neighbors=5)\n",
        "knn.fit(X_train, y_train)\n",
        "\n",
        "y_pred_knn = knn.predict(X_test)\n",
        "\n",
        "# Evaluate the model\n",
        "accuracy = accuracy_score(y_test, y_pred_knn)\n",
        "precision = precision_score(y_test, y_pred_knn)\n",
        "recall = recall_score(y_test, y_pred_knn)\n",
        "f1 = f1_score(y_test, y_pred_knn)\n",
        "\n",
        "print(\"K-Nearest Neighbors:\")\n",
        "print(f\"Accuracy: {accuracy:.4f}, Precision: {precision:.4f}, Recall: {recall:.4f}, F1 Score: {f1:.4f}\")\n"
      ],
      "metadata": {
        "colab": {
          "base_uri": "https://localhost:8080/"
        },
        "id": "RvT0S5Z8eZa1",
        "outputId": "76391ea7-051a-48da-e405-cfa3c5680e94"
      },
      "execution_count": 12,
      "outputs": [
        {
          "output_type": "stream",
          "name": "stdout",
          "text": [
            "K-Nearest Neighbors:\n",
            "Accuracy: 0.9841, Precision: 0.9939, Recall: 0.9701, F1 Score: 0.9818\n"
          ]
        }
      ]
    },
    {
      "cell_type": "markdown",
      "source": [
        "Support Vector Machine - Linear Kernel"
      ],
      "metadata": {
        "id": "nNfG4hP1ovWh"
      }
    },
    {
      "cell_type": "code",
      "source": [
        "from sklearn.svm import SVC\n",
        "\n",
        "svm_linear = SVC(kernel='linear', random_state=42)\n",
        "svm_linear.fit(X_train, y_train)\n",
        "\n",
        "y_pred_svm_linear = svm_linear.predict(X_test)\n",
        "\n",
        "# Evaluate the model\n",
        "accuracy = accuracy_score(y_test, y_pred_svm_linear)\n",
        "precision = precision_score(y_test, y_pred_svm_linear)\n",
        "recall = recall_score(y_test, y_pred_svm_linear)\n",
        "f1 = f1_score(y_test, y_pred_svm_linear)\n",
        "\n",
        "print(\"Support Vector Machine (Linear Kernel):\")\n",
        "print(f\"Accuracy: {accuracy:.4f}, Precision: {precision:.4f}, Recall: {recall:.4f}, F1 Score: {f1:.4f}\")\n"
      ],
      "metadata": {
        "colab": {
          "base_uri": "https://localhost:8080/"
        },
        "id": "inolqQ6Xecx7",
        "outputId": "217c1a85-b979-4823-bcee-2f6687246edf"
      },
      "execution_count": 13,
      "outputs": [
        {
          "output_type": "stream",
          "name": "stdout",
          "text": [
            "Support Vector Machine (Linear Kernel):\n",
            "Accuracy: 0.9814, Precision: 0.9848, Recall: 0.9731, F1 Score: 0.9789\n"
          ]
        }
      ]
    },
    {
      "cell_type": "markdown",
      "source": [
        "Support Vector Machine (RBF Kernel)"
      ],
      "metadata": {
        "id": "xHrCl0vnpBQw"
      }
    },
    {
      "cell_type": "code",
      "source": [
        "\n",
        "svm_rbf = SVC(kernel='rbf', random_state=42)\n",
        "svm_rbf.fit(X_train, y_train)\n",
        "\n",
        "y_pred_svm_rbf = svm_rbf.predict(X_test)\n",
        "\n",
        "# Evaluate the model\n",
        "accuracy = accuracy_score(y_test, y_pred_svm_rbf)\n",
        "precision = precision_score(y_test, y_pred_svm_rbf)\n",
        "recall = recall_score(y_test, y_pred_svm_rbf)\n",
        "f1 = f1_score(y_test, y_pred_svm_rbf)\n",
        "\n",
        "print(\"Kernel SVM (RBF Kernel):\")\n",
        "print(f\"Accuracy: {accuracy:.4f}, Precision: {precision:.4f}, Recall: {recall:.4f}, F1 Score: {f1:.4f}\")\n"
      ],
      "metadata": {
        "colab": {
          "base_uri": "https://localhost:8080/"
        },
        "id": "R_83WZgkei7I",
        "outputId": "a2286ef3-944d-4d71-a926-a60ebb813958"
      },
      "execution_count": 14,
      "outputs": [
        {
          "output_type": "stream",
          "name": "stdout",
          "text": [
            "Kernel SVM (RBF Kernel):\n",
            "Accuracy: 0.9774, Precision: 0.9818, Recall: 0.9671, F1 Score: 0.9744\n"
          ]
        }
      ]
    },
    {
      "cell_type": "markdown",
      "source": [
        "Naive Bayes"
      ],
      "metadata": {
        "id": "pYHPv62fp0hk"
      }
    },
    {
      "cell_type": "code",
      "source": [
        "from sklearn.naive_bayes import GaussianNB\n",
        "\n",
        "nb = GaussianNB()\n",
        "nb.fit(X_train, y_train)\n",
        "\n",
        "y_pred_nb = nb.predict(X_test)\n",
        "\n",
        "accuracy = accuracy_score(y_test, y_pred_nb)\n",
        "precision = precision_score(y_test, y_pred_nb)\n",
        "recall = recall_score(y_test, y_pred_nb)\n",
        "f1 = f1_score(y_test, y_pred_nb)\n",
        "\n",
        "print(\"Naive Bayes:\")\n",
        "print(f\"Accuracy: {accuracy:.4f}, Precision: {precision:.4f}, Recall: {recall:.4f}, F1 Score: {f1:.4f}\")\n"
      ],
      "metadata": {
        "colab": {
          "base_uri": "https://localhost:8080/"
        },
        "id": "TMvTISCRel4K",
        "outputId": "13798201-f29c-4755-a2cc-fdce88ba80f7"
      },
      "execution_count": 15,
      "outputs": [
        {
          "output_type": "stream",
          "name": "stdout",
          "text": [
            "Naive Bayes:\n",
            "Accuracy: 0.9615, Precision: 0.9781, Recall: 0.9341, F1 Score: 0.9556\n"
          ]
        }
      ]
    },
    {
      "cell_type": "markdown",
      "source": [
        "Decision Tree Classification"
      ],
      "metadata": {
        "id": "uRm6uGpSp5x8"
      }
    },
    {
      "cell_type": "code",
      "source": [
        "from sklearn.tree import DecisionTreeClassifier\n",
        "\n",
        "dtc = DecisionTreeClassifier(random_state=42)\n",
        "dtc.fit(X_train, y_train)\n",
        "\n",
        "y_pred_dtc = dtc.predict(X_test)\n",
        "\n",
        "# Evaluate the model\n",
        "accuracy = accuracy_score(y_test, y_pred_dtc)\n",
        "precision = precision_score(y_test, y_pred_dtc)\n",
        "recall = recall_score(y_test, y_pred_dtc)\n",
        "f1 = f1_score(y_test, y_pred_dtc)\n",
        "\n",
        "print(\"Decision Tree Classification:\")\n",
        "print(f\"Accuracy: {accuracy:.4f}, Precision: {precision:.4f}, Recall: {recall:.4f}, F1 Score: {f1:.4f}\")\n"
      ],
      "metadata": {
        "colab": {
          "base_uri": "https://localhost:8080/"
        },
        "id": "Xg7SDWO2eqvQ",
        "outputId": "f2cf2e18-cd08-4021-dcb1-b9daaa15a38b"
      },
      "execution_count": 16,
      "outputs": [
        {
          "output_type": "stream",
          "name": "stdout",
          "text": [
            "Decision Tree Classification:\n",
            "Accuracy: 0.9748, Precision: 0.9787, Recall: 0.9641, F1 Score: 0.9713\n"
          ]
        }
      ]
    },
    {
      "cell_type": "markdown",
      "source": [
        "Random Forest Classification"
      ],
      "metadata": {
        "id": "onNoG--xp9Pv"
      }
    },
    {
      "cell_type": "code",
      "source": [
        "from sklearn.ensemble import RandomForestClassifier\n",
        "\n",
        "rfc = RandomForestClassifier(n_estimators=100, random_state=42)\n",
        "rfc.fit(X_train, y_train)\n",
        "\n",
        "y_pred_rfc = rfc.predict(X_test)\n",
        "\n",
        "# Evaluate the model\n",
        "accuracy = accuracy_score(y_test, y_pred_rfc)\n",
        "precision = precision_score(y_test, y_pred_rfc)\n",
        "recall = recall_score(y_test, y_pred_rfc)\n",
        "f1 = f1_score(y_test, y_pred_rfc)\n",
        "\n",
        "print(\"Random Forest Classification:\")\n",
        "print(f\"Accuracy: {accuracy:.4f}, Precision: {precision:.4f}, Recall: {recall:.4f}, F1 Score: {f1:.4f}\")\n"
      ],
      "metadata": {
        "colab": {
          "base_uri": "https://localhost:8080/"
        },
        "id": "VhqCpFf9etKw",
        "outputId": "b70e3e19-5e27-4db8-a251-6560910e089e"
      },
      "execution_count": 17,
      "outputs": [
        {
          "output_type": "stream",
          "name": "stdout",
          "text": [
            "Random Forest Classification:\n",
            "Accuracy: 0.9841, Precision: 0.9909, Recall: 0.9731, F1 Score: 0.9819\n"
          ]
        }
      ]
    },
    {
      "cell_type": "markdown",
      "source": [
        "**The best model is Random Forest Classification with Accuracy level of 98.41%.**"
      ],
      "metadata": {
        "id": "o81qgv5TftT7"
      }
    },
    {
      "cell_type": "markdown",
      "source": [
        "Testing the Model with few Test Cases"
      ],
      "metadata": {
        "id": "ErUFjJMAqeZv"
      }
    },
    {
      "cell_type": "code",
      "source": [
        "# Assuming you have a new data point to predict\n",
        "new_data0 = np.array([[45, 87000, 5.2, 0, 1, 12, 0, 100, 4.5, 0, 2, 1, 3000]])\n",
        "\n",
        "# Predict the result using the trained classifier\n",
        "prediction = rfc.predict(new_data0)\n",
        "\n",
        "# Output the prediction result\n",
        "if prediction[0] == 1:\n",
        "    print(\"Prediction: The person is suspected to have a Brain Tumor.\")\n",
        "else:\n",
        "    print(\"Prediction: The person is NOT suspected to have a Brain Tumor.\")"
      ],
      "metadata": {
        "colab": {
          "base_uri": "https://localhost:8080/"
        },
        "id": "j5sz_fO4jh1I",
        "outputId": "991a2697-0017-4992-94f6-cadbf8508f71"
      },
      "execution_count": 18,
      "outputs": [
        {
          "output_type": "stream",
          "name": "stdout",
          "text": [
            "Prediction: The person is suspected to have a Brain Tumor.\n"
          ]
        }
      ]
    },
    {
      "cell_type": "code",
      "source": [
        "# Test Case 1: Moderate feature values\n",
        "new_data1 = np.array([[30, 75000, 4.8, 1, 0, 15, 0, 90, 3.5, 1, 1, 0, 2500]])\n",
        "\n",
        "# Predict the result using the trained classifier\n",
        "prediction = rfc.predict(new_data1)\n",
        "\n",
        "# Output the prediction result\n",
        "if prediction[0] == 1:\n",
        "    print(\"Prediction: The person is suspected to have a Brain Tumor.\")\n",
        "else:\n",
        "    print(\"Prediction: The person is NOT suspected to have a Brain Tumor.\")"
      ],
      "metadata": {
        "colab": {
          "base_uri": "https://localhost:8080/"
        },
        "id": "W7MiL2CqlGkK",
        "outputId": "04294d94-b4dd-4843-f3c3-7732a1479f13"
      },
      "execution_count": 19,
      "outputs": [
        {
          "output_type": "stream",
          "name": "stdout",
          "text": [
            "Prediction: The person is NOT suspected to have a Brain Tumor.\n"
          ]
        }
      ]
    },
    {
      "cell_type": "code",
      "source": [
        "# Test Case 2: High values for critical features\n",
        "new_data2 = np.array([[50, 120000, 6.5, 1, 1, 20, 1, 150, 5.2, 0, 3, 1, 5000]])\n",
        "\n",
        "# Predict the result using the trained classifier\n",
        "prediction = rfc.predict(new_data2)\n",
        "\n",
        "# Output the prediction result\n",
        "if prediction[0] == 1:\n",
        "    print(\"Prediction: The person is suspected to have a Brain Tumor.\")\n",
        "else:\n",
        "    print(\"Prediction: The person is NOT suspected to have a Brain Tumor.\")"
      ],
      "metadata": {
        "colab": {
          "base_uri": "https://localhost:8080/"
        },
        "id": "qJHHAkQglKnv",
        "outputId": "4663cee6-22c2-4dd8-b13b-873c43ac3d74"
      },
      "execution_count": 20,
      "outputs": [
        {
          "output_type": "stream",
          "name": "stdout",
          "text": [
            "Prediction: The person is suspected to have a Brain Tumor.\n"
          ]
        }
      ]
    },
    {
      "cell_type": "code",
      "source": [
        "# Test Case 3: Low values for all features\n",
        "new_data3 = np.array([[18, 45000, 3.2, 0, 0, 5, 0, 50, 2.1, 0, 0, 0, 1000]])\n",
        "\n",
        "# Predict the result using the trained classifier\n",
        "prediction = rfc.predict(new_data3)\n",
        "\n",
        "# Output the prediction result\n",
        "if prediction[0] == 1:\n",
        "    print(\"Prediction: The person is suspected to have a Brain Tumor.\")\n",
        "else:\n",
        "    print(\"Prediction: The person is NOT suspected to have a Brain Tumor.\")"
      ],
      "metadata": {
        "colab": {
          "base_uri": "https://localhost:8080/"
        },
        "id": "lDt1R3oXlKcF",
        "outputId": "623acdcb-1ea8-41aa-ce30-a69f234be479"
      },
      "execution_count": 21,
      "outputs": [
        {
          "output_type": "stream",
          "name": "stdout",
          "text": [
            "Prediction: The person is suspected to have a Brain Tumor.\n"
          ]
        }
      ]
    },
    {
      "cell_type": "code",
      "source": [
        "# Test Case 4: Mixed values with emphasis on key features\n",
        "new_data4 = np.array([[40, 100000, 5.7, 0, 1, 18, 1, 120, 4.8, 1, 2, 1, 3500]])\n",
        "\n",
        "# Predict the result using the trained classifier\n",
        "prediction = rfc.predict(new_data4)\n",
        "\n",
        "# Output the prediction result\n",
        "if prediction[0] == 1:\n",
        "    print(\"Prediction: The person is suspected to have a Brain Tumor.\")\n",
        "else:\n",
        "    print(\"Prediction: The person is NOT suspected to have a Brain Tumor.\")"
      ],
      "metadata": {
        "colab": {
          "base_uri": "https://localhost:8080/"
        },
        "id": "Z8CtDCqNlKGb",
        "outputId": "2a965060-b2dc-41cb-eeed-45f7ce9e2298"
      },
      "execution_count": 22,
      "outputs": [
        {
          "output_type": "stream",
          "name": "stdout",
          "text": [
            "Prediction: The person is suspected to have a Brain Tumor.\n"
          ]
        }
      ]
    },
    {
      "cell_type": "code",
      "source": [
        "# Test Case 5: Extreme values (edge case)\n",
        "new_data5 = np.array([[65, 200000, 7.0, 1, 1, 25, 1, 200, 6.5, 1, 3, 1, 7000]])\n",
        "\n",
        "# Predict the result using the trained classifier\n",
        "prediction = rfc.predict(new_data5)\n",
        "\n",
        "# Output the prediction result\n",
        "if prediction[0] == 1:\n",
        "    print(\"Prediction: The person is suspected to have a Brain Tumor.\")\n",
        "else:\n",
        "    print(\"Prediction: The person is NOT suspected to have a Brain Tumor.\")"
      ],
      "metadata": {
        "colab": {
          "base_uri": "https://localhost:8080/"
        },
        "id": "QYS6_zyslJ7S",
        "outputId": "bd6e6cec-d0aa-41c1-bc19-d5637a680f19"
      },
      "execution_count": 23,
      "outputs": [
        {
          "output_type": "stream",
          "name": "stdout",
          "text": [
            "Prediction: The person is suspected to have a Brain Tumor.\n"
          ]
        }
      ]
    },
    {
      "cell_type": "markdown",
      "source": [
        "## Clustering\n"
      ],
      "metadata": {
        "id": "rd6L6Xaxexz_"
      }
    },
    {
      "cell_type": "markdown",
      "source": [
        "K-Means Clustering"
      ],
      "metadata": {
        "id": "ZXcgqbbfqy2W"
      }
    },
    {
      "cell_type": "code",
      "source": [
        "from sklearn.cluster import KMeans\n",
        "\n",
        "wcss = []  # Within-cluster sum of squares\n",
        "for i in range(1, 11):\n",
        "    kmeans = KMeans(n_clusters=i, init='k-means++', random_state=42)\n",
        "    kmeans.fit(X)\n",
        "    wcss.append(kmeans.inertia_)\n",
        "\n",
        "# Plot the Elbow Method graph\n",
        "plt.figure(figsize=(10, 6))\n",
        "plt.plot(range(1, 11), wcss, marker='o', linestyle='--')\n",
        "plt.title('Elbow Method')\n",
        "plt.xlabel('Number of Clusters')\n",
        "plt.ylabel('WCSS')\n",
        "plt.show()\n",
        "\n",
        "kmeans = KMeans(n_clusters=2, init='k-means++', random_state=42)\n",
        "kmeans.fit(X)\n",
        "labels_kmeans = kmeans.labels_\n",
        "\n",
        "# Output cluster centers and labels\n",
        "print(\"Cluster Centers:\\n\", kmeans.cluster_centers_)\n",
        "print(\"Labels:\\n\", labels_kmeans)\n"
      ],
      "metadata": {
        "colab": {
          "base_uri": "https://localhost:8080/",
          "height": 755
        },
        "id": "5WGcM51CWSr_",
        "outputId": "35355520-4f25-4488-87d9-95810570572e"
      },
      "execution_count": 24,
      "outputs": [
        {
          "output_type": "display_data",
          "data": {
            "text/plain": [
              "<Figure size 1000x600 with 1 Axes>"
            ],
            "image/png": "[encoded data removed]"
          },
          "metadata": {}
        },
        {
          "output_type": "stream",
          "name": "stdout",
          "text": [
            "Cluster Centers:\n",
            " [[7.33314253e+000 4.73283097e+002 2.09414664e+001 8.72017391e-002\n",
            "  4.43670155e+000 2.91896807e+001 1.18852278e+002 2.29700389e-001\n",
            "  6.97714721e-002 5.00601507e-001 4.44278079e+000 9.52870513e-001\n",
            "  7.45834073e-155]\n",
            " [1.49984750e+001 1.31890804e+003 3.60207731e+001 3.88464486e-002\n",
            "  3.24916594e+000 1.21198385e+001 1.51242390e+002 1.40823104e-001\n",
            "  3.01606640e-002 4.24687247e-001 5.35204956e+000 9.63168790e-001\n",
            "  7.45834073e-155]]\n",
            "Labels:\n",
            " [0 0 1 ... 1 1 0]\n"
          ]
        }
      ]
    },
    {
      "cell_type": "markdown",
      "source": [
        "Hierarchy Clustering"
      ],
      "metadata": {
        "id": "9jsrJrleq11w"
      }
    },
    {
      "cell_type": "code",
      "source": [
        "from scipy.cluster.hierarchy import dendrogram, linkage\n",
        "\n",
        "# Perform hierarchical clustering using the 'ward' method\n",
        "linked = linkage(X, method='ward')\n",
        "\n",
        "# Plot the dendrogram\n",
        "plt.figure(figsize=(10, 7))\n",
        "dendrogram(linked, truncate_mode='level', p=5)  # Show the top 5 levels\n",
        "plt.title('Dendrogram')\n",
        "plt.xlabel('Samples')\n",
        "plt.ylabel('Euclidean Distance')\n",
        "plt.show()\n",
        "\n",
        "from sklearn.cluster import AgglomerativeClustering\n",
        "\n",
        "agg_clustering = AgglomerativeClustering(n_clusters=2, linkage='ward')\n",
        "labels_hierarchical = agg_clustering.fit_predict(X)\n",
        "\n",
        "# Output cluster labels\n",
        "print(\"Hierarchical Clustering Labels:\\n\", labels_hierarchical)\n"
      ],
      "metadata": {
        "colab": {
          "base_uri": "https://localhost:8080/",
          "height": 685
        },
        "id": "NBrZHcIaWSpO",
        "outputId": "8d34191f-9188-42e3-9106-73b207e974a7"
      },
      "execution_count": 25,
      "outputs": [
        {
          "output_type": "display_data",
          "data": {
            "text/plain": [
              "<Figure size 1000x700 with 1 Axes>"
            ],
            "image/png": "[encoded data removed]"
          },
          "metadata": {}
        },
        {
          "output_type": "stream",
          "name": "stdout",
          "text": [
            "Hierarchical Clustering Labels:\n",
            " [0 0 1 ... 1 0 0]\n"
          ]
        }
      ]
    },
    {
      "cell_type": "markdown",
      "source": [
        "Visualization"
      ],
      "metadata": {
        "id": "szpztz3Nq-uB"
      }
    },
    {
      "cell_type": "code",
      "source": [
        "from sklearn.decomposition import PCA\n",
        "\n",
        "# Reduce the dataset to 2 dimensions for visualization\n",
        "pca = PCA(n_components=2)\n",
        "X_pca = pca.fit_transform(X)\n",
        "\n",
        "# Visualize K-Means clustering results\n",
        "plt.figure(figsize=(10, 7))\n",
        "plt.scatter(X_pca[:, 0], X_pca[:, 1], c=labels_kmeans, cmap='viridis', s=50, label='Clusters')\n",
        "plt.scatter(kmeans.cluster_centers_[:, 0], kmeans.cluster_centers_[:, 1], color='red', marker='x', s=200, label='Centroids')\n",
        "plt.title('K-Means Clustering Results')\n",
        "plt.xlabel('PCA Feature 1')\n",
        "plt.ylabel('PCA Feature 2')\n",
        "plt.legend()\n",
        "plt.show()\n"
      ],
      "metadata": {
        "colab": {
          "base_uri": "https://localhost:8080/",
          "height": 641
        },
        "id": "mh5OGDi-WSmj",
        "outputId": "9cdca17a-6e2a-4ac0-800a-14b34f6e8239"
      },
      "execution_count": 26,
      "outputs": [
        {
          "output_type": "display_data",
          "data": {
            "text/plain": [
              "<Figure size 1000x700 with 1 Axes>"
            ],
            "image/png": "[encoded data removed]"
          },
          "metadata": {}
        }
      ]
    },
    {
      "cell_type": "code",
      "source": [
        "# Visualize Hierarchical Clustering results\n",
        "plt.figure(figsize=(10, 7))\n",
        "plt.scatter(X_pca[:, 0], X_pca[:, 1], c=labels_hierarchical, cmap='plasma', s=50)\n",
        "plt.title('Hierarchical Clustering Results')\n",
        "plt.xlabel('PCA Feature 1')\n",
        "plt.ylabel('PCA Feature 2')\n",
        "plt.show()\n"
      ],
      "metadata": {
        "colab": {
          "base_uri": "https://localhost:8080/",
          "height": 641
        },
        "id": "uAz8Jf1iWSj6",
        "outputId": "f0cb2382-c6ed-4efb-a9e7-47975bcf8103"
      },
      "execution_count": 27,
      "outputs": [
        {
          "output_type": "display_data",
          "data": {
            "text/plain": [
              "<Figure size 1000x700 with 1 Axes>"
            ],
            "image/png": "[encoded data removed]"
          },
          "metadata": {}
        }
      ]
    },
    {
      "cell_type": "code",
      "source": [
        "# Dendrogram visualization was included earlier, but here's the snippet again:\n",
        "plt.figure(figsize=(10, 7))\n",
        "dendrogram(linked, truncate_mode='level', p=5)  # Show the top 5 levels\n",
        "plt.title('Dendrogram')\n",
        "plt.xlabel('Samples')\n",
        "plt.ylabel('Euclidean Distance')\n",
        "plt.show()\n"
      ],
      "metadata": {
        "colab": {
          "base_uri": "https://localhost:8080/",
          "height": 650
        },
        "id": "xTQtmF1tWShN",
        "outputId": "8f7a3c92-9b00-481e-d99b-b01c3315b46f"
      },
      "execution_count": 28,
      "outputs": [
        {
          "output_type": "display_data",
          "data": {
            "text/plain": [
              "<Figure size 1000x700 with 1 Axes>"
            ],
            "image/png": "[encoded data removed]"
          },
          "metadata": {}
        }
      ]
    }
  ]
}